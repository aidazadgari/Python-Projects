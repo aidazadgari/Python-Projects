{
 "cells": [
  {
   "cell_type": "code",
   "execution_count": null,
   "id": "4dd7998e",
   "metadata": {},
   "outputs": [],
   "source": [
    "# This is the first example\n",
    "print ('Hello world')"
   ]
  },
  {
   "cell_type": "code",
   "execution_count": null,
   "id": "75e43bcb",
   "metadata": {},
   "outputs": [],
   "source": [
    "print(\"hello world\")"
   ]
  },
  {
   "cell_type": "code",
   "execution_count": null,
   "id": "2f69c27d",
   "metadata": {},
   "outputs": [],
   "source": [
    "print('Aida is wonderfull')"
   ]
  },
  {
   "cell_type": "code",
   "execution_count": null,
   "id": "04b38dfc",
   "metadata": {},
   "outputs": [],
   "source": [
    "x= 36\n",
    "my_Information = 'Aida'\n",
    "print (my_Information, x)"
   ]
  },
  {
   "cell_type": "code",
   "execution_count": null,
   "id": "d735839c",
   "metadata": {},
   "outputs": [],
   "source": [
    "myFirstname = 'aida'\n",
    "myLastname ='Zadgari'\n",
    "print (myFirstname)\n",
    "print (myFirstname + myLastname)\n",
    "print (myFirstname + \"-\"+ myLastname)\n",
    "print (myFirstname + \" \"+ myLastname)"
   ]
  },
  {
   "cell_type": "code",
   "execution_count": null,
   "id": "c7d7f007",
   "metadata": {},
   "outputs": [],
   "source": [
    "str_1 = 'Aida is a good girl.'\n",
    "print(str_1.upper())\n",
    "str_1.lower()"
   ]
  },
  {
   "cell_type": "code",
   "execution_count": null,
   "id": "6c619b89",
   "metadata": {},
   "outputs": [],
   "source": [
    "word = '   Aida   '\n",
    "newWord = word.strip()\n",
    "print(word)\n",
    "print(newWord)"
   ]
  },
  {
   "cell_type": "code",
   "execution_count": null,
   "id": "d0df6bc0",
   "metadata": {},
   "outputs": [],
   "source": [
    "'   aida   '.strip()"
   ]
  },
  {
   "cell_type": "code",
   "execution_count": null,
   "id": "3d8d45e5",
   "metadata": {},
   "outputs": [],
   "source": [
    "str_1= 'aida'\n",
    "print('aida'.strip('a'))"
   ]
  },
  {
   "cell_type": "code",
   "execution_count": null,
   "id": "813b4ba7",
   "metadata": {},
   "outputs": [],
   "source": [
    "x= 'aida'\n",
    "xx = x.count('a')\n",
    "print(xx)"
   ]
  },
  {
   "cell_type": "code",
   "execution_count": null,
   "id": "93a8356e",
   "metadata": {},
   "outputs": [],
   "source": [
    "x=6\n",
    "y=2\n",
    "print(x**y)\n",
    "print(x/y)\n",
    "print(x//y)"
   ]
  },
  {
   "cell_type": "code",
   "execution_count": null,
   "id": "24d8512b",
   "metadata": {},
   "outputs": [],
   "source": [
    "import math"
   ]
  },
  {
   "cell_type": "code",
   "execution_count": null,
   "id": "d4d6583e",
   "metadata": {},
   "outputs": [],
   "source": [
    "sss = input('what is your name: ')"
   ]
  },
  {
   "cell_type": "code",
   "execution_count": null,
   "id": "e9284d86",
   "metadata": {},
   "outputs": [],
   "source": [
    "message = 'I am successful'\n",
    "print (len(message))\n",
    "print (message.lower())\n",
    "print (message.upper())"
   ]
  },
  {
   "cell_type": "code",
   "execution_count": null,
   "id": "21ca3a02",
   "metadata": {},
   "outputs": [],
   "source": [
    "# 1"
   ]
  },
  {
   "cell_type": "code",
   "execution_count": null,
   "id": "202c989f",
   "metadata": {},
   "outputs": [],
   "source": [
    "Century = 100\n",
    "my_age = 30\n",
    "agetocentury = Century - my_age\n",
    "print(agetocentury)"
   ]
  },
  {
   "cell_type": "code",
   "execution_count": null,
   "id": "06932d2c",
   "metadata": {},
   "outputs": [],
   "source": [
    "print('My age is %d, my age to century is %d' % (my_age,agetocentury))"
   ]
  },
  {
   "cell_type": "code",
   "execution_count": null,
   "id": "d4777804",
   "metadata": {},
   "outputs": [],
   "source": [
    "print(f'My age is {my_age} and my age to century is {agetocentury}')"
   ]
  },
  {
   "cell_type": "code",
   "execution_count": null,
   "id": "1f56fd91",
   "metadata": {},
   "outputs": [],
   "source": [
    "# 2"
   ]
  },
  {
   "cell_type": "code",
   "execution_count": null,
   "id": "543b010e",
   "metadata": {},
   "outputs": [],
   "source": [
    "for i in range (5,10):\n",
    "    print (i)"
   ]
  },
  {
   "cell_type": "code",
   "execution_count": null,
   "id": "77f6e944",
   "metadata": {},
   "outputs": [],
   "source": [
    "counter = 0\n",
    "step = 4\n",
    "while counter < step:\n",
    "    print (\"I am on step %d\" % (counter))\n",
    "    counter = counter + 1"
   ]
  },
  {
   "cell_type": "code",
   "execution_count": null,
   "id": "9bb2cbdc",
   "metadata": {},
   "outputs": [],
   "source": [
    "topofstep = 5\n",
    "for i in range (1, topofstep):\n",
    "    print(f'I am on step {i}')"
   ]
  },
  {
   "cell_type": "code",
   "execution_count": null,
   "id": "b73a82a9",
   "metadata": {},
   "outputs": [],
   "source": [
    "def goUpsteps():\n",
    "    counter = 1\n",
    "    topstep = 5\n",
    "    while counter < topstep:\n",
    "        print(f'I am on step{counter}')\n",
    "        counter = counter +1"
   ]
  },
  {
   "cell_type": "code",
   "execution_count": null,
   "id": "b45db9c5",
   "metadata": {},
   "outputs": [],
   "source": [
    "goUpsteps()"
   ]
  },
  {
   "cell_type": "code",
   "execution_count": null,
   "id": "f1f10d6d",
   "metadata": {},
   "outputs": [],
   "source": [
    "def goUpsteps(topstep):\n",
    "    counter = 1\n",
    "    while counter < topstep:\n",
    "        print(f'I am on step{counter}')\n",
    "        counter = counter +1\n",
    "    print(f'I am on the top step : {counter}')"
   ]
  },
  {
   "cell_type": "code",
   "execution_count": null,
   "id": "5e6e5560",
   "metadata": {},
   "outputs": [],
   "source": [
    "goUpsteps(5)"
   ]
  },
  {
   "cell_type": "code",
   "execution_count": null,
   "id": "16f8cccf",
   "metadata": {},
   "outputs": [],
   "source": [
    "def Steps(start, end):\n",
    "    for i in range (start, end):\n",
    "        print(f'I am on step {i}')"
   ]
  },
  {
   "cell_type": "code",
   "execution_count": null,
   "id": "0a7a6ce1",
   "metadata": {},
   "outputs": [],
   "source": [
    "Steps(3, 7)"
   ]
  },
  {
   "cell_type": "code",
   "execution_count": null,
   "id": "2c4f0723",
   "metadata": {},
   "outputs": [],
   "source": [
    "#Matrices"
   ]
  },
  {
   "cell_type": "code",
   "execution_count": null,
   "id": "e2db5289",
   "metadata": {},
   "outputs": [],
   "source": [
    "import numpy as np\n",
    "mydata = np.arange(0,20)\n",
    "print(mydata)"
   ]
  },
  {
   "cell_type": "code",
   "execution_count": null,
   "id": "345405aa",
   "metadata": {},
   "outputs": [],
   "source": [
    "for i in mydata:\n",
    "    print(f'{i}')"
   ]
  },
  {
   "cell_type": "code",
   "execution_count": null,
   "id": "8c013d40",
   "metadata": {},
   "outputs": [],
   "source": [
    "np.reshape(mydata,(5,4),order='C')  #C order means that operating row-rise on the array"
   ]
  },
  {
   "cell_type": "code",
   "execution_count": null,
   "id": "0342d1f3",
   "metadata": {},
   "outputs": [],
   "source": [
    " np.reshape(mydata,(5,4),order='F') #F order means that column-wise operations will be faster."
   ]
  },
  {
   "cell_type": "code",
   "execution_count": null,
   "id": "80fcf09f",
   "metadata": {},
   "outputs": [],
   "source": [
    "MATR1 = np.reshape(mydata,(5,4),order='C')\n",
    "MATR2 = np.reshape(mydata,(5,4),order='F')\n",
    "print(MATR1[2,2])"
   ]
  },
  {
   "cell_type": "code",
   "execution_count": null,
   "id": "899bc4a9",
   "metadata": {},
   "outputs": [],
   "source": [
    "Message = ['60','days','to','christmas']\n",
    "print('There are %s %s %s %s' % (Message[0], Message[1],Message[2],Message[3]))"
   ]
  },
  {
   "cell_type": "code",
   "execution_count": null,
   "id": "d88027b3",
   "metadata": {},
   "outputs": [],
   "source": [
    "#Dictionary (keys, values)"
   ]
  },
  {
   "cell_type": "code",
   "execution_count": null,
   "id": "8e91b716",
   "metadata": {},
   "outputs": [],
   "source": [
    "dict1 = {'key1': 'val1', 'key2':'val2','key3':'val3'}\n",
    "dict1['key1']\n",
    "print(dict1['key1'])"
   ]
  },
  {
   "cell_type": "code",
   "execution_count": 32,
   "id": "fe217671",
   "metadata": {},
   "outputs": [
    {
     "name": "stdout",
     "output_type": "stream",
     "text": [
      "Germany:yes\n",
      "Spain:no\n",
      "Italy:yes\n",
      "UK:no\n"
     ]
    }
   ],
   "source": [
    "countries = ['Germany', 'Spain','Italy','UK']\n",
    "visited = ['yes','no','yes','no']\n",
    "for i in range (0,4):\n",
    "    print(f'{countries[i]}:{visited[i]}')"
   ]
  },
  {
   "cell_type": "code",
   "execution_count": 33,
   "id": "b2c53374",
   "metadata": {},
   "outputs": [],
   "source": [
    "emplooyees = [{'name': 'John', 'age':'38','department':'marketing'}, {'name': 'Alex', 'age':'29','department':'accounting'}, \n",
    "              {'name': 'Rose', 'age':'35','department':'HR'}]"
   ]
  },
  {
   "cell_type": "code",
   "execution_count": 46,
   "id": "1f891912",
   "metadata": {},
   "outputs": [
    {
     "name": "stdout",
     "output_type": "stream",
     "text": [
      "Name\t\t John\n",
      "Age\t\t 38\n",
      "Department\t marketing\n",
      "====================\n",
      "Name\t\t Alex\n",
      "Age\t\t 29\n",
      "Department\t accounting\n",
      "====================\n",
      "Name\t\t Rose\n",
      "Age\t\t 35\n",
      "Department\t HR\n",
      "====================\n"
     ]
    }
   ],
   "source": [
    "for emplooyee in emplooyees:\n",
    "    print('Name\\t\\t', emplooyee['name'])\n",
    "    print('Age\\t\\t', emplooyee['age'])\n",
    "    print('Department\\t', emplooyee['department'])\n",
    "    print('='*20)"
   ]
  },
  {
   "cell_type": "code",
   "execution_count": 54,
   "id": "17df27a5",
   "metadata": {},
   "outputs": [
    {
     "name": "stdout",
     "output_type": "stream",
     "text": [
      "Name\t John     Age\t 38     Department\t marketing\n",
      "============================================================\n",
      "Name\t Alex     Age\t 29     Department\t accounting\n",
      "============================================================\n",
      "Name\t Rose     Age\t 35     Department\t HR\n",
      "============================================================\n"
     ]
    }
   ],
   "source": [
    "for emplooyee in emplooyees:\n",
    "    print('Name\\t', emplooyee['name'],\"   \",'Age\\t', emplooyee['age'],\"   \",'Department\\t', emplooyee['department'])\n",
    "    print('='*60)"
   ]
  },
  {
   "cell_type": "code",
   "execution_count": 57,
   "id": "2913e845",
   "metadata": {},
   "outputs": [
    {
     "name": "stdout",
     "output_type": "stream",
     "text": [
      "{'Corey': [23, 14, 78], 'Lisa': [65, 32, 90], 'Brad': [37, 64, 29]}\n"
     ]
    }
   ],
   "source": [
    "examscores = {'Corey':[23,14,78], 'Lisa':[65,32,90], 'Brad':[37,64,29]}\n",
    "print(examscores)"
   ]
  },
  {
   "cell_type": "code",
   "execution_count": 67,
   "id": "87abb463",
   "metadata": {},
   "outputs": [
    {
     "name": "stdout",
     "output_type": "stream",
     "text": [
      "   Corey  Lisa  Brad\n",
      "0     23    65    37\n",
      "1     14    32    64\n",
      "2     78    90    29\n"
     ]
    }
   ],
   "source": [
    "import pandas as pd\n",
    "examDataFrame = pd.DataFrame(examscores)\n",
    "print(examDataFrame)"
   ]
  },
  {
   "cell_type": "code",
   "execution_count": 68,
   "id": "d21ebcff",
   "metadata": {},
   "outputs": [
    {
     "name": "stdout",
     "output_type": "stream",
     "text": [
      "        0   1   2\n",
      "Corey  23  14  78\n",
      "Lisa   65  32  90\n",
      "Brad   37  64  29\n"
     ]
    }
   ],
   "source": [
    "examDataFrame = examDataFrame.T\n",
    "print(examDataFrame)"
   ]
  },
  {
   "cell_type": "code",
   "execution_count": 70,
   "id": "f9afb73c",
   "metadata": {},
   "outputs": [
    {
     "name": "stdout",
     "output_type": "stream",
     "text": [
      "       English  Math  Science\n",
      "Corey       23    14       78\n",
      "Lisa        65    32       90\n",
      "Brad        37    64       29\n"
     ]
    }
   ],
   "source": [
    "examDataFrame.columns = ['English','Math','Science']\n",
    "print(examDataFrame)"
   ]
  },
  {
   "cell_type": "code",
   "execution_count": 71,
   "id": "8369dfc4",
   "metadata": {},
   "outputs": [
    {
     "data": {
      "text/plain": [
       "English    23\n",
       "Math       14\n",
       "Science    78\n",
       "Name: Corey, dtype: int64"
      ]
     },
     "execution_count": 71,
     "metadata": {},
     "output_type": "execute_result"
    }
   ],
   "source": [
    "examDataFrame.iloc[0]"
   ]
  },
  {
   "cell_type": "code",
   "execution_count": 72,
   "id": "1e42824e",
   "metadata": {},
   "outputs": [
    {
     "data": {
      "text/plain": [
       "Corey    23\n",
       "Lisa     65\n",
       "Brad     37\n",
       "Name: English, dtype: int64"
      ]
     },
     "execution_count": 72,
     "metadata": {},
     "output_type": "execute_result"
    }
   ],
   "source": [
    "examDataFrame['English']"
   ]
  },
  {
   "cell_type": "code",
   "execution_count": 73,
   "id": "08317543",
   "metadata": {},
   "outputs": [
    {
     "data": {
      "text/plain": [
       "Corey    23\n",
       "Lisa     65\n",
       "Brad     37\n",
       "Name: English, dtype: int64"
      ]
     },
     "execution_count": 73,
     "metadata": {},
     "output_type": "execute_result"
    }
   ],
   "source": [
    "examDataFrame.English"
   ]
  },
  {
   "cell_type": "code",
   "execution_count": null,
   "id": "4be9ffe5",
   "metadata": {},
   "outputs": [],
   "source": []
  }
 ],
 "metadata": {
  "kernelspec": {
   "display_name": "Python 3 (ipykernel)",
   "language": "python",
   "name": "python3"
  },
  "language_info": {
   "codemirror_mode": {
    "name": "ipython",
    "version": 3
   },
   "file_extension": ".py",
   "mimetype": "text/x-python",
   "name": "python",
   "nbconvert_exporter": "python",
   "pygments_lexer": "ipython3",
   "version": "3.9.12"
  }
 },
 "nbformat": 4,
 "nbformat_minor": 5
}
