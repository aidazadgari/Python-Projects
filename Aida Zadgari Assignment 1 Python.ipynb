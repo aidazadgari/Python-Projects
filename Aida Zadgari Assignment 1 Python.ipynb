{
 "cells": [
  {
   "cell_type": "markdown",
   "id": "069983e1",
   "metadata": {},
   "source": [
    "## Turtle Assignment - Aida Zadgari\n",
    "### The Challenge \n",
    "> **To create a program with two turtles that draw on the screen and interact with each other.**"
   ]
  },
  {
   "cell_type": "markdown",
   "id": "4d89c6b0",
   "metadata": {},
   "source": [
    "### The steps are as below:\n",
    "> **1. Import the libraries**\n",
    "**2. Turtle setup**\n",
    "**3. Define functions**\n",
    "**4. Define Turtles**\n",
    "**5. Run & End**"
   ]
  },
  {
   "cell_type": "markdown",
   "id": "674cb563",
   "metadata": {},
   "source": [
    "### 1: Import the libraries\n",
    "> The first step is importing the libraries that we are going to use during the programming."
   ]
  },
  {
   "cell_type": "code",
   "execution_count": 1,
   "id": "4f081aed",
   "metadata": {},
   "outputs": [],
   "source": [
    "import turtle \n",
    "import time \n",
    "import random"
   ]
  },
  {
   "cell_type": "markdown",
   "id": "ecf89bf1",
   "metadata": {},
   "source": [
    "### 2: Turtle setup"
   ]
  },
  {
   "cell_type": "code",
   "execution_count": 2,
   "id": "35f35887",
   "metadata": {},
   "outputs": [],
   "source": [
    "turtle.clearscreen()           # reseting the window to it's original state-- # Clear the output\n",
    "screen = turtle.Screen()       # is used for creating the screen in which we can draw the shapes.\n",
    "screen.bgcolor(\"black\")        # background color of the window\n",
    "turtle.speed(0)                # 0 means that the picture is done immediately, 1 is slowest, 2 faster etc."
   ]
  },
  {
   "cell_type": "markdown",
   "id": "4b70f558",
   "metadata": {},
   "source": [
    "### 3: Define functions\n",
    "> #### In this part I defined some fuctions for drawing shapes and used them in section \"Define Turtles\""
   ]
  },
  {
   "cell_type": "code",
   "execution_count": 3,
   "id": "529a46f7",
   "metadata": {},
   "outputs": [],
   "source": [
    "def draw_square():           # draw a squre using a for Loop and function\n",
    "    for i in range(4):       # repeats 4 times\n",
    "        Lono.forward(100)\n",
    "        Lono.right(90)"
   ]
  },
  {
   "cell_type": "code",
   "execution_count": 4,
   "id": "d8771427",
   "metadata": {},
   "outputs": [],
   "source": [
    "colours = [\"lightgreen\", \"green\",\"hotpink\",\"deeppink\",\"skyblue\",\"indigo\",\"violet\"]  # using list & random\n",
    "rnd_colour = random.sample(colours,1)"
   ]
  },
  {
   "cell_type": "code",
   "execution_count": 5,
   "id": "b88b2ab1",
   "metadata": {},
   "outputs": [],
   "source": [
    "def draw_rectangle():        # Define draw_rectangle function\n",
    "    for colours in [\"red\",\"blue\"]:\n",
    "        Lono.color(colours)\n",
    "        Lono.forward(500)\n",
    "        Lono.right(90)\n",
    "        Lono.forward(400)\n",
    "        Lono.right(90)"
   ]
  },
  {
   "cell_type": "code",
   "execution_count": 6,
   "id": "aa43e26d",
   "metadata": {},
   "outputs": [],
   "source": [
    "def draw_star():       # Define draw_star function\n",
    "    Toto = tur.Turtle()\n",
    "    color= ['yellow','indigo','green','orange','purple']\n",
    "    Toto.pensize(4)\n",
    "    Toto.penup()\n",
    "    Toto.setpos(-100,40)\n",
    "    Toto.pendown()\n",
    "    for i in range(5):\n",
    "        Toto.pencolor(color[i])\n",
    "        Toto.forward(200)\n",
    "        Toto.right(144)"
   ]
  },
  {
   "cell_type": "code",
   "execution_count": 7,
   "id": "610a35a6",
   "metadata": {},
   "outputs": [],
   "source": [
    "def drawb_star():       # Define draw_star function\n",
    "    Toto = tur.Turtle()\n",
    "    Toto.pensize(4)\n",
    "    Toto.penup()\n",
    "    Toto.setpos(-100,40)\n",
    "    Toto.pendown()\n",
    "    for i in range(5):\n",
    "        Toto.pencolor(\"blue\")\n",
    "        Toto.forward(200)\n",
    "        Toto.right(144)"
   ]
  },
  {
   "cell_type": "code",
   "execution_count": 8,
   "id": "1a6f8864",
   "metadata": {},
   "outputs": [],
   "source": [
    "def drawo_star():       # Define draw_star function\n",
    "    Toto = tur.Turtle()\n",
    "    Toto.pensize(4)\n",
    "    Toto.penup()\n",
    "    Toto.setpos(-100,40)\n",
    "    Toto.pendown()\n",
    "    for i in range(5):\n",
    "        Toto.pencolor(\"darkorange\")\n",
    "        Toto.forward(200)\n",
    "        Toto.right(144)"
   ]
  },
  {
   "cell_type": "code",
   "execution_count": 9,
   "id": "2a29ce7d",
   "metadata": {},
   "outputs": [],
   "source": [
    "def drawp_star():       # Define draw_star function\n",
    "    Toto = tur.Turtle()\n",
    "    Toto.pensize(4)\n",
    "    Toto.penup()\n",
    "    Toto.setpos(-100,40)\n",
    "    Toto.pendown()\n",
    "    for i in range(5):\n",
    "        Toto.pencolor(\"hotpink\")\n",
    "        Toto.forward(200)\n",
    "        Toto.right(144)"
   ]
  },
  {
   "cell_type": "code",
   "execution_count": 10,
   "id": "a6ea91dd",
   "metadata": {},
   "outputs": [],
   "source": [
    "def draw_circle():       # Define draw_circle function\n",
    "    Toto.penup()\n",
    "    Toto.setpos(0,-100)  # Starts at that position\n",
    "    Toto.pendown()\n",
    "    Toto.pensize(5)\n",
    "    Toto.begin_fill()\n",
    "    Toto.circle(110)     # r= 110  # Shape can be different ( circle, square ...)\n",
    "    Toto.end_fill()"
   ]
  },
  {
   "cell_type": "markdown",
   "id": "28c55bdb",
   "metadata": {},
   "source": [
    "### 4: Define Two Turtles: Toto and Lono\n",
    "> ###  Define the first Turtle: Toto \n",
    "In this part I defind a circle-star Turtle with the r=110 and as I am going to use them several times, I defined Def:  draw_circle() & draw_star()"
   ]
  },
  {
   "cell_type": "code",
   "execution_count": 11,
   "id": "2102a32e",
   "metadata": {},
   "outputs": [],
   "source": [
    "Toto =  turtle.Turtle() #Create an instance of a turtle\n",
    "Toto.color(\"violet\")\n",
    "Toto.write('Hello! I am Toto!', font='Verdana', align='center')\n",
    "time.sleep(8)\n",
    "Toto.clear()\n",
    "Toto.color(\"deeppink\", \"pink\")   # Change Turtles colour and define shape during process and # Set a colour #(strok color, fill color)\n",
    "draw_circle()\n",
    "from turtle import * \n",
    "import turtle as tur\n",
    "draw_star()\n",
    "Toto.penup()\n",
    "Toto.pendown()"
   ]
  },
  {
   "cell_type": "markdown",
   "id": "7f8fc117",
   "metadata": {},
   "source": [
    "> ###  Define the seconnd Turtle: Lono\n",
    "In this part I defind a \"4 square- 1 rectangle\" Turtle and as I drew the squares 4 times, I used range, I also defined Def: draw_square() & draw_rectangle()."
   ]
  },
  {
   "cell_type": "code",
   "execution_count": 12,
   "id": "8a3c07e4",
   "metadata": {},
   "outputs": [],
   "source": [
    "Lono =  turtle.Turtle() \n",
    "Lono.penup()\n",
    "Lono.setpos(-150,200) # Starts at that position\n",
    "Lono.pendown()\n",
    "Lono.color(\"white\")\n",
    "Lono.write('Hello! I am Lono!', font='Verdana', align='right')\n",
    "time.sleep(2)\n",
    "Lono.clear()\n",
    "Lono.penup()\n",
    "Lono.setpos(-350,300) # Starts at that position\n",
    "Lono.pendown()\n",
    "Lono.color(rnd_colour) \n",
    "Lono.pensize(4)\n",
    "draw_square()\n",
    "\n",
    "Lono.penup()\n",
    "Lono.goto(250,300)\n",
    "Lono.pendown()\n",
    "draw_square()\n",
    "\n",
    "Lono.penup()\n",
    "Lono.goto(250,-200)\n",
    "Lono.pendown()\n",
    "draw_square()\n",
    "\n",
    "Lono.penup()\n",
    "Lono.goto(-350,-200)\n",
    "Lono.pendown()\n",
    "draw_square()\n",
    "\n",
    "Lono.penup()\n",
    "Lono.goto(-250,200)\n",
    "Lono.pendown()\n",
    "draw_rectangle()"
   ]
  },
  {
   "cell_type": "markdown",
   "id": "7778b9cc",
   "metadata": {},
   "source": [
    ">### Using while loop\n",
    "In this part, I used random color and while loop to continue drawing, and stop when Lono reaches Toto. As Lono has selected a random color, by entering the random color as an input, Lono will change the color of Toto and thennToto introduce itself according to its new color."
   ]
  },
  {
   "cell_type": "code",
   "execution_count": 13,
   "id": "3215e38a",
   "metadata": {},
   "outputs": [
    {
     "name": "stdout",
     "output_type": "stream",
     "text": [
      "['darkorange']\n"
     ]
    }
   ],
   "source": [
    "colours = ['orange','darkorange','hotpink','green', 'blue']    # using list & random for selecting colour \n",
    "rnd_colour = random.sample(colours,1)\n",
    "Lono.color(rnd_colour)\n",
    "Lono.penup()\n",
    "Lono.goto(-155,155)\n",
    "Lono.pendown()\n",
    "dst = 300                # distance\n",
    "trn = 90                 # turn angle\n",
    "count = 0\n",
    "while (count < 12):     \n",
    "    count += 1\n",
    "    Lono.forward(dst)\n",
    "    Lono.right(trn)\n",
    "    dst= dst - 5\n",
    "dst = 67    \n",
    "trn = 45\n",
    "Lono.right(trn)\n",
    "Lono.forward(dst)\n",
    "print(rnd_colour)\n",
    "Lono.penup()\n",
    "Lono.goto(250,250)\n",
    "Lono.pendown()\n",
    "Lono.write(f\"Please enter my colour {rnd_colour} as an input\", font='Verdana', align='right')\n",
    "Toto.clear()"
   ]
  },
  {
   "cell_type": "markdown",
   "id": "3731384a",
   "metadata": {},
   "source": [
    ">### Using \"input\" & \"if statement\""
   ]
  },
  {
   "cell_type": "code",
   "execution_count": 14,
   "id": "25bd088e",
   "metadata": {},
   "outputs": [
    {
     "name": "stdout",
     "output_type": "stream",
     "text": [
      "Please enter the random colour as above : darkorange\n"
     ]
    }
   ],
   "source": [
    "rnd_colour = input(\"Please enter the random colour as above : \")\n",
    "\n",
    "if  rnd_colour == \"darkorange\" or rnd_colour == \"orange\" in colours:\n",
    "    Toto.color(\"darkorange\",\"orange\")\n",
    "    draw_circle()\n",
    "    drawo_star()\n",
    "    \n",
    "elif rnd_colour == \"green\" in colours:\n",
    "    Toto.color(\"hotpink\",\"purple\")\n",
    "    draw_circle()\n",
    "    drawp_star()\n",
    "    \n",
    "else:\n",
    "        Toto.color(\"blue\",\"skyblue\")\n",
    "        draw_circle()\n",
    "        drawb_star()"
   ]
  },
  {
   "cell_type": "markdown",
   "id": "0e1abdcd",
   "metadata": {},
   "source": [
    ">### Using f string"
   ]
  },
  {
   "cell_type": "code",
   "execution_count": 15,
   "id": "ae4576c9",
   "metadata": {},
   "outputs": [],
   "source": [
    "Toto.penup()\n",
    "Toto.goto(200,-300)\n",
    "Toto.pendown()\n",
    "Toto.write(f\"Hello! I am a {Toto.color()} Toto!\", font='Verdana', align='right')"
   ]
  },
  {
   "cell_type": "markdown",
   "id": "8828d18a",
   "metadata": {},
   "source": [
    "### 5: End"
   ]
  },
  {
   "cell_type": "code",
   "execution_count": 16,
   "id": "e2af64ba",
   "metadata": {},
   "outputs": [],
   "source": [
    "time.sleep(20)   \n",
    "turtle.clearscreen()\n",
    "turtle.bye()"
   ]
  }
 ],
 "metadata": {
  "kernelspec": {
   "display_name": "Python 3 (ipykernel)",
   "language": "python",
   "name": "python3"
  },
  "language_info": {
   "codemirror_mode": {
    "name": "ipython",
    "version": 3
   },
   "file_extension": ".py",
   "mimetype": "text/x-python",
   "name": "python",
   "nbconvert_exporter": "python",
   "pygments_lexer": "ipython3",
   "version": "3.9.12"
  }
 },
 "nbformat": 4,
 "nbformat_minor": 5
}
